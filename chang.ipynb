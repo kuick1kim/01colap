{
 "cells": [
  {
   "cell_type": "markdown",
   "id": "e9a2f91c",
   "metadata": {},
   "source": [
    "<table align=\"left\">\n",
    "  <td>\n",
    "    <a target=\"_blank\" href=\"https://colab.research.google.com/github/rickiepark/hg-mldl/blob/master/1-3.ipynb\"><img src=\"https://www.tensorflow.org/images/colab_logo_32px.png\" />구글 코랩에서 실행하기</a>\n",
    "  </td>\n",
    "</table>"
   ]
  },
  {
   "cell_type": "code",
   "execution_count": null,
   "id": "35205378",
   "metadata": {},
   "outputs": [],
   "source": [
    "창업자 해보기.ipynb\n",
    "https://github.com/kuick1kim/01colap/blob/a631ec0e84fb12daa9eedb6abaa08c8a7f4e8ac9/%EC%B0%BD%EC%97%85%EC%9E%90%20%ED%95%B4%EB%B3%B4%EA%B8%B0.ipynb"
   ]
  }
 ],
 "metadata": {
  "kernelspec": {
   "display_name": "Python 3",
   "language": "python",
   "name": "python3"
  },
  "language_info": {
   "codemirror_mode": {
    "name": "ipython",
    "version": 3
   },
   "file_extension": ".py",
   "mimetype": "text/x-python",
   "name": "python",
   "nbconvert_exporter": "python",
   "pygments_lexer": "ipython3",
   "version": "3.8.8"
  }
 },
 "nbformat": 4,
 "nbformat_minor": 5
}
