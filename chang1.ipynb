{
 "cells": [
  {
   "cell_type": "markdown",
   "id": "4abcdadd",
   "metadata": {},
   "source": [
    "<table align=\"left\">\n",
    "  <td>\n",
    "    <a target=\"_blank\" href=\"https://github.com/kuick1kim/01colap/blob/83997c06ef74fddf09c94c9039897d298a41b54e/chang.ipynb\"><img src=\"https://www.tensorflow.org/images/colab_logo_32px.png\" />구글 코랩에서 실행하기</a>\n",
    "  </td>\n",
    "</table>"
   ]
  },
  {
   "cell_type": "code",
   "execution_count": null,
   "id": "7cda7697",
   "metadata": {},
   "outputs": [],
   "source": [
    "창업자 해보기.ipynb\n",
    "https://github.com/kuick1kim/01colap/blob/a631ec0e84fb12daa9eedb6abaa08c8a7f4e8ac9/%EC%B0%BD%EC%97%85%EC%9E%90%20%ED%95%B4%EB%B3%B4%EA%B8%B0.ipynb\n",
    "    \n",
    "    \n",
    "    \n",
    "    chang.ipynb\n",
    "    https://github.com/kuick1kim/01colap/blob/83997c06ef74fddf09c94c9039897d298a41b54e/chang.ipynb"
   ]
  }
 ],
 "metadata": {
  "kernelspec": {
   "display_name": "Python 3",
   "language": "python",
   "name": "python3"
  },
  "language_info": {
   "codemirror_mode": {
    "name": "ipython",
    "version": 3
   },
   "file_extension": ".py",
   "mimetype": "text/x-python",
   "name": "python",
   "nbconvert_exporter": "python",
   "pygments_lexer": "ipython3",
   "version": "3.8.8"
  }
 },
 "nbformat": 4,
 "nbformat_minor": 5
}
